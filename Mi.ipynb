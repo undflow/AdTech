{
 "cells": [
  {
   "cell_type": "code",
   "execution_count": 45,
   "metadata": {},
   "outputs": [],
   "source": [
    "from time import time\n",
    "import matplotlib.pyplot as plt\n",
    "import numpy as np\n",
    "import pandas as pd\n",
    "import seaborn as sns\n",
    "import tensorflow as tf\n",
    "import keras\n",
    "%matplotlib inline"
   ]
  },
  {
   "cell_type": "code",
   "execution_count": 46,
   "metadata": {},
   "outputs": [
    {
     "name": "stdout",
     "output_type": "stream",
     "text": [
      "Done in 13.010s.\n"
     ]
    }
   ],
   "source": [
    "t0 = time()\n",
    "\n",
    "train_data = pd.read_csv(\"data/training.csv\")\n",
    "test_data = pd.read_csv(\"data/test.csv\")\n",
    "\n",
    "print (\"Done in %0.3fs.\" % (time() - t0))"
   ]
  },
  {
   "cell_type": "code",
   "execution_count": 47,
   "metadata": {},
   "outputs": [
    {
     "data": {
      "text/plain": [
       "Index(['auction_id', 'timestamp', 'creative_duration', 'creative_id',\n",
       "       'campaign_id', 'advertiser_id', 'placement_id', 'placement_language',\n",
       "       'website_id', 'referer_deep_three', 'ua_country', 'ua_os', 'ua_browser',\n",
       "       'ua_browser_version', 'ua_device', 'user_average_seconds_played',\n",
       "       'seconds_played'],\n",
       "      dtype='object')"
      ]
     },
     "execution_count": 47,
     "metadata": {},
     "output_type": "execute_result"
    }
   ],
   "source": [
    "train_data.columns"
   ]
  },
  {
   "cell_type": "code",
   "execution_count": 57,
   "metadata": {},
   "outputs": [],
   "source": [
    "from tensorflow.contrib import keras\n",
    "from keras.layers import Input, Embedding, Flatten, Dense, Dropout\n",
    "from keras.layers import Concatenate\n",
    "from keras.layers import Dot\n",
    "from keras.models import Model\n",
    "from keras.utils.np_utils import to_categorical"
   ]
  },
  {
   "cell_type": "code",
   "execution_count": 59,
   "metadata": {},
   "outputs": [],
   "source": [
    "dic = {v: k for k, v in enumerate(set(train_data.creative_id.values))}\n",
    "\n",
    "def convert_to_id(input_list, dictionary):\n",
    "    list_converted = [dictionary[x] for x in input_list]\n",
    "    return np.array(list_converted)"
   ]
  },
  {
   "cell_type": "code",
   "execution_count": 54,
   "metadata": {},
   "outputs": [],
   "source": [
    "cid_dict = {v: k for k, v in enumerate(set(train_data.creative_id.values))}\n",
    "pid_dict = {v: k for k, v in enumerate(set(train_data.placement_id.values))}\n",
    "sid_dict = {v: k for k, v in enumerate(set(train_data.website_id.values))}\n",
    "cty_dict = {v: k for k, v in enumerate(set(train_data.ua_country.values))}\n",
    "os_dict = {v: k for k, v in enumerate(set(train_data.ua_os.values))}\n",
    "dvc_dict = {v: k for k, v in enumerate(set(train_data.ua_device.values))}"
   ]
  },
  {
   "cell_type": "code",
   "execution_count": 52,
   "metadata": {},
   "outputs": [
    {
     "name": "stdout",
     "output_type": "stream",
     "text": [
      "130 130\n"
     ]
    }
   ],
   "source": [
    "print (train_data.ua_country.unique().shape[0], len(cty_dict))"
   ]
  },
  {
   "cell_type": "code",
   "execution_count": 53,
   "metadata": {},
   "outputs": [],
   "source": [
    "card_cid = train_data.creative_id.unique().shape[0]\n",
    "card_pid = train_data.placement_id.unique().shape[0]\n",
    "card_sid = train_data.website_id.unique().shape[0]\n",
    "card_cty = train_data.ua_country.unique().shape[0]\n",
    "card_os = train_data.ua_os.unique().shape[0]"
   ]
  },
  {
   "cell_type": "code",
   "execution_count": 55,
   "metadata": {},
   "outputs": [],
   "source": [
    "cdrt_input = Input(shape=[1], name='cdrt')\n",
    "cid_input = Input(shape=[1], name='cid')\n",
    "pid_input = Input(shape=[1], name='pid')\n",
    "sid_input = Input(shape=[1], name='sid')\n",
    "cty_input = Input(shape=[1], name='cty')\n",
    "os_input = Input(shape=[1], name='os')\n",
    "dvc_input = Input(shape=[5], name='dvc')\n",
    "\n",
    "cid_embedding = Embedding(output_dim=10, input_dim=card_cid,\n",
    "                          input_length=1, name='cid_embedding')(cid_input)\n",
    "pid_embedding = Embedding(output_dim=10, input_dim=card_pid,\n",
    "                          input_length=1, name='pid_embedding')(pid_input)\n",
    "sid_embedding = Embedding(output_dim=10, input_dim=card_sid,\n",
    "                          input_length=1, name='sid_embedding')(sid_input)\n",
    "cty_embedding = Embedding(output_dim=5, input_dim=card_cty,\n",
    "                          input_length=1, name='cty_embedding')(cty_input)\n",
    "os_embedding = Embedding(output_dim=5, input_dim=card_os,\n",
    "                          input_length=1, name='os_embedding')(os_input)\n",
    "\n",
    "cid_vecs = Flatten()(cid_embedding)\n",
    "pid_vecs = Flatten()(pid_embedding)\n",
    "sid_vecs = Flatten()(sid_embedding)\n",
    "cty_vecs = Flatten()(cty_embedding)\n",
    "os_vecs = Flatten()(os_embedding)\n",
    "\n",
    "input_vecs = Concatenate()([cdrt_input, cid_vecs, pid_vecs, sid_vecs, cty_vecs, os_vecs, dvc_input])\n",
    "input_vecs = Dropout(0.2)(input_vecs)\n",
    "\n",
    "x = Dense(64, activation='relu')(input_vecs)\n",
    "y = Dense(1, activation='relu')(x)\n",
    "\n",
    "model = Model(inputs=[cdrt_input, cid_input, pid_input, sid_input, cty_input, os_input, dvc_input], outputs=y)\n",
    "model.compile(optimizer='adam', loss='mse')"
   ]
  },
  {
   "cell_type": "code",
   "execution_count": 32,
   "metadata": {},
   "outputs": [],
   "source": [
    "train_data['country_id'] = pd.Categorical(train_data.ua_country)\n",
    "train_data['os_id'] = pd.Categorical(train_data.ua_os)\n",
    "train_data['device_type'] = pd.Categorical(train_data.ua_device)"
   ]
  },
  {
   "cell_type": "code",
   "execution_count": 33,
   "metadata": {},
   "outputs": [],
   "source": [
    "oneHotEncoder = OneHotEncoder()"
   ]
  },
  {
   "cell_type": "code",
   "execution_count": 60,
   "metadata": {},
   "outputs": [],
   "source": [
    "cdrt_train = train_data.creative_duration.values\n",
    "cid_train = convert_to_id(train_data.creative_id.values, cid_dict)\n",
    "pid_train = convert_to_id(train_data.placement_id.values, pid_dict)\n",
    "sid_train = convert_to_id(train_data.website_id.values, sid_dict)\n",
    "cty_train = convert_to_id(train_data.ua_country.values, cty_dict)\n",
    "os_train = convert_to_id(train_data.ua_os.values, os_dict)\n",
    "dvc_train = to_categorical(convert_to_id(train_data.ua_device, dvc_dict))"
   ]
  },
  {
   "cell_type": "code",
   "execution_count": 36,
   "metadata": {},
   "outputs": [],
   "source": [
    "sp_train = train_data.seconds_played.values"
   ]
  },
  {
   "cell_type": "code",
   "execution_count": 44,
   "metadata": {},
   "outputs": [
    {
     "name": "stdout",
     "output_type": "stream",
     "text": [
      "3000000 [16 16 17 ...  0 16 16]\n"
     ]
    }
   ],
   "source": [
    "print (len(os_train), os_train)"
   ]
  },
  {
   "cell_type": "code",
   "execution_count": null,
   "metadata": {},
   "outputs": [
    {
     "name": "stdout",
     "output_type": "stream",
     "text": [
      "Train on 2700000 samples, validate on 300000 samples\n",
      "Epoch 1/5\n",
      "2422656/2700000 [=========================>....] - ETA: 10s - loss: 71.3517"
     ]
    }
   ],
   "source": [
    "model.fit([cdrt_train, cid_train, pid_train, sid_train, cty_train, os_train, dvc_train], sp_train, \n",
    "          batch_size=64, epochs=5, validation_split=0.1, shuffle=True)"
   ]
  },
  {
   "cell_type": "code",
   "execution_count": null,
   "metadata": {},
   "outputs": [],
   "source": []
  }
 ],
 "metadata": {
  "kernelspec": {
   "display_name": "Python 3",
   "language": "python",
   "name": "python3"
  },
  "language_info": {
   "codemirror_mode": {
    "name": "ipython",
    "version": 3
   },
   "file_extension": ".py",
   "mimetype": "text/x-python",
   "name": "python",
   "nbconvert_exporter": "python",
   "pygments_lexer": "ipython3",
   "version": "3.6.3"
  }
 },
 "nbformat": 4,
 "nbformat_minor": 2
}
